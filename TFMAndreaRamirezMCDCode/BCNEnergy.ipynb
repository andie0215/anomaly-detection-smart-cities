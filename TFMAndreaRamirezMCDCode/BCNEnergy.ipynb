{
 "cells": [
  {
   "cell_type": "markdown",
   "id": "a58a9828-f573-4d1f-a2a0-3aa59f191107",
   "metadata": {
    "tags": []
   },
   "source": [
    "# Notebook Electricity Consumption  in Barcelona"
   ]
  },
  {
   "cell_type": "markdown",
   "id": "e1186c20-99f1-49b5-b2f2-8f15642783dd",
   "metadata": {},
   "source": [
    "> *Andrea Ramirez*\n",
    ">\n",
    "> Master in Data Science\n",
    ">\n",
    "> Universitat de Girona, 2023"
   ]
  },
  {
   "cell_type": "markdown",
   "id": "fb494f3e-a597-456b-a67e-c65ddbd50ce7",
   "metadata": {},
   "source": [
    "# 1. Notebook Preparation"
   ]
  },
  {
   "cell_type": "markdown",
   "id": "405e8b06-9bad-432d-83f3-64fae4366016",
   "metadata": {},
   "source": [
    "*Import the basic libraries to run this notebook.*"
   ]
  },
  {
   "cell_type": "code",
   "execution_count": 37,
   "id": "da4f9934-e660-4998-9534-a1713557471e",
   "metadata": {
    "tags": []
   },
   "outputs": [],
   "source": [
    "import json\n",
    "import os\n",
    "from datetime import datetime, time\n",
    "\n",
    "import numpy as np\n",
    "import pandas as pd\n",
    "import requests\n",
    "import seaborn as sns\n",
    "import matplotlib.pyplot as plt \n",
    "from matplotlib import rcParams\n",
    "from babel.dates import format_date\n",
    "import datetime\n",
    "from datetime import timedelta"
   ]
  },
  {
   "cell_type": "markdown",
   "id": "652340dd-103c-4305-abb1-99ec799e33b8",
   "metadata": {},
   "source": [
    "*Import the libraries perform ML techniques.*"
   ]
  },
  {
   "cell_type": "code",
   "execution_count": 2,
   "id": "d5b91f36-802e-41a0-92ea-57c420133a89",
   "metadata": {
    "tags": []
   },
   "outputs": [],
   "source": [
    "from sklearn.preprocessing import StandardScaler\n",
    "from sklearn.neighbors import KNeighborsClassifier\n",
    "from sklearn.metrics import accuracy_score"
   ]
  },
  {
   "cell_type": "markdown",
   "id": "18303130-7d00-426d-a658-3259cb8276cb",
   "metadata": {},
   "source": [
    "# 2. Data Extraction"
   ]
  },
  {
   "cell_type": "markdown",
   "id": "5982457c-cdaf-4ab2-809e-6481ffb26a8f",
   "metadata": {},
   "source": [
    "*Import of libraries to run Spark in this section.*"
   ]
  },
  {
   "cell_type": "code",
   "execution_count": 3,
   "id": "7f1f2121-d994-4247-ba7e-abc9a3a2dc1b",
   "metadata": {
    "tags": []
   },
   "outputs": [],
   "source": [
    "from itertools import chain\n",
    "from pyspark.sql import SparkSession\n",
    "from pyspark.sql.functions import *\n",
    "from pyspark.sql.functions import regexp_replace, to_date\n",
    "from pyspark.sql.types import *\n",
    "from pyspark.sql.window import Window"
   ]
  },
  {
   "cell_type": "markdown",
   "id": "bf8991bf-328f-4afe-8b7c-36ae8a92539b",
   "metadata": {},
   "source": [
    "*Creation of the Spark session*"
   ]
  },
  {
   "cell_type": "code",
   "execution_count": 4,
   "id": "22dcf94a-e125-44a6-8735-13c8dd493c21",
   "metadata": {
    "tags": []
   },
   "outputs": [],
   "source": [
    "os.environ[\"SPARK_MASTER\"] = \"local[*]\"\n",
    "os.environ[\"SPARK_JAR_PACKAGES\"] = \"org.postgresql:postgresql:42.6.0\"\n",
    "os.environ[\"SPARK_WAREHOUSE\"] = \"/tmp/\""
   ]
  },
  {
   "cell_type": "code",
   "execution_count": 5,
   "id": "67f0ae05-584b-4214-a66a-3c3b5cbba131",
   "metadata": {
    "tags": []
   },
   "outputs": [],
   "source": [
    "spark = (\n",
    "    SparkSession.builder.master(os.environ[\"SPARK_MASTER\"])\n",
    "    .appName(\"Spark-Electricity-BCN\")\n",
    "    .config(\"spark.sql.session.timeZone\", \"UTC\")\n",
    "    .config(\"spark.ui.enabled\", False)\n",
    "    .config(\"spark.sql.legacy.timeParserPolicy\", \"LEGACY\")\n",
    "    .config(\"spark.driver.memory\", \"2g\")\n",
    "    .config(\"spark.ui.showConsoleProgress\", False)\n",
    "    .config(\"spark.jars.packages\", os.environ[\"SPARK_JAR_PACKAGES\"])\n",
    "    .getOrCreate()\n",
    ")"
   ]
  },
  {
   "cell_type": "markdown",
   "id": "37dec1cb-b251-4d45-9239-0fbc98513d2b",
   "metadata": {},
   "source": [
    "*Getting the `url` per year*."
   ]
  },
  {
   "cell_type": "code",
   "execution_count": 6,
   "id": "2baeb898-be35-463e-b32c-854230f6379a",
   "metadata": {
    "tags": []
   },
   "outputs": [],
   "source": [
    "data = {\n",
    "    2019: {\n",
    "        \"year\": \"2019\",\n",
    "        \"url\": \"https://opendata-ajuntament.barcelona.cat/data/dataset/d9479057-781f-42b4-85e6-721bd0284130/resource/41b9a3e0-f079-4a4a-a8c3-670adc6bfb95/download/2019_consum_electricitat_bcn.csv\",\n",
    "    },\n",
    "    2020: {\n",
    "        \"year\": \"2020\",\n",
    "        \"url\": \"https://opendata-ajuntament.barcelona.cat/data/dataset/d9479057-781f-42b4-85e6-721bd0284130/resource/3c45a329-0414-4055-8f17-82456fc78dea/download/2020_consum_electricitat_bcn.csv\",\n",
    "    },\n",
    "    2021: {\n",
    "        \"year\": \"2021\",\n",
    "        \"url\": \"https://opendata-ajuntament.barcelona.cat/data/dataset/d9479057-781f-42b4-85e6-721bd0284130/resource/2b6ef2c2-cbd0-437c-a229-889e992e1dd6/download/2021_consum_electricitat_bcn.csv\",\n",
    "    },\n",
    "    2022: {\n",
    "        \"year\": \"2022\",\n",
    "        \"url\": \"https://opendata-ajuntament.barcelona.cat/data/dataset/d9479057-781f-42b4-85e6-721bd0284130/resource/e685fa1a-9fbe-41a4-98a0-173464cd0c5f/download/2022_consum_electricitat_bcn.csv\",\n",
    "    },\n",
    "    2023: {\n",
    "        \"year\": \"2023\",\n",
    "        \"url\": \"https://opendata-ajuntament.barcelona.cat/data/dataset/d9479057-781f-42b4-85e6-721bd0284130/resource/25caee3a-a9f2-4e1a-8c8b-1b5fcac4f152/download/2023_consum_electricitat_bcn.csv\",\n",
    "    },\n",
    "}"
   ]
  },
  {
   "cell_type": "code",
   "execution_count": 7,
   "id": "d851c476-3a9a-4901-b3ee-bf020ef1ae68",
   "metadata": {
    "tags": []
   },
   "outputs": [],
   "source": [
    "def get_data_per_year(diccionary, element):\n",
    "    if element in diccionary:\n",
    "        data_per_year = diccionary[element]\n",
    "        year = data_per_year[\"year\"]\n",
    "        url = data_per_year[\"url\"]\n",
    "        return year, url\n",
    "    else:\n",
    "        return None"
   ]
  },
  {
   "cell_type": "markdown",
   "id": "ed1cb441-e9cd-425e-b6b1-2b5f5a69b5e9",
   "metadata": {},
   "source": [
    "*Requesting the data from the Open Data website*"
   ]
  },
  {
   "cell_type": "code",
   "execution_count": 8,
   "id": "23c7b3b4-16de-4688-a1ef-ba944eea3111",
   "metadata": {
    "tags": []
   },
   "outputs": [],
   "source": [
    "def extract_data(year, url):\n",
    "    file_name = f\"{year}.csv\"\n",
    "    response = requests.get(url)\n",
    "    with open(file_name, \"wb\") as f:\n",
    "        f.write(response.content)\n",
    "    df = spark.read.csv(file_name, header=True, inferSchema=True)\n",
    "    return df"
   ]
  },
  {
   "cell_type": "code",
   "execution_count": 9,
   "id": "f79b052d-abd7-4431-a199-d4614bc81f1e",
   "metadata": {
    "tags": []
   },
   "outputs": [],
   "source": [
    "combined_df = None\n",
    "\n",
    "for year, data_per_year in data.items():\n",
    "    year = data_per_year[\"year\"]\n",
    "    url = data_per_year[\"url\"]\n",
    "    initial_df = extract_data(year, url)\n",
    "    if combined_df is None:\n",
    "        combined_df = initial_df\n",
    "    else:\n",
    "        combined_df = combined_df.union(initial_df)"
   ]
  },
  {
   "cell_type": "markdown",
   "id": "ce7afe20-ba36-440c-b1d4-7f46a108dcf5",
   "metadata": {},
   "source": [
    "*Translating the columns' names*"
   ]
  },
  {
   "cell_type": "code",
   "execution_count": 10,
   "id": "ba84804f-aa10-4f7f-96b4-5f22d2589689",
   "metadata": {
    "tags": []
   },
   "outputs": [],
   "source": [
    "df = (\n",
    "    combined_df.withColumnRenamed(\"Any\", \"year_observed\")\n",
    "    .withColumnRenamed(\"Data\", \"date_observed\")\n",
    "    .withColumnRenamed(\"Codi_Postal\", \"postal_code\")\n",
    "    .withColumnRenamed(\"Sector_Economic\", \"sector_category\")\n",
    "    .withColumnRenamed(\"Tram_Horari\", \"time_range\")\n",
    "    .withColumnRenamed(\"Valor\", \"consumption_value\")\n",
    ")"
   ]
  },
  {
   "cell_type": "markdown",
   "id": "2b819f5c-6315-4567-b41f-2c7e174892c4",
   "metadata": {},
   "source": [
    "# 3. Data Exploration and Pre-Processing"
   ]
  },
  {
   "cell_type": "markdown",
   "id": "b380e5c7-bd17-4dba-b7c3-a6acc1cd07c7",
   "metadata": {},
   "source": [
    "First of all, let's filter the data to only keep the registers to explore."
   ]
  },
  {
   "cell_type": "code",
   "execution_count": 11,
   "id": "e0e152d1-9c54-436f-9b25-3fb24d0c8942",
   "metadata": {
    "tags": []
   },
   "outputs": [],
   "source": [
    "df = (\n",
    "    df.filter(col(\"sector_category\").isin(\"Serveis\"))\n",
    "    .filter(\n",
    "        (col(\"time_range\") == \"De 00:00:00 a 05:59:59 h\")\n",
    "        | (col(\"time_range\") == \"De 18:00:00 a 23:59:59 h\")\n",
    "    )\n",
    "    .drop(\"sector_category\", \"time_range\")\n",
    ")"
   ]
  },
  {
   "cell_type": "markdown",
   "id": "7b895866-25db-47b9-8bb1-9773a9b2fa3b",
   "metadata": {},
   "source": [
    "Let's check the initial attributes."
   ]
  },
  {
   "cell_type": "code",
   "execution_count": 12,
   "id": "6beffb00-e1cd-4e82-bf8e-60b1cfe09b4b",
   "metadata": {
    "tags": []
   },
   "outputs": [],
   "source": [
    "def dataframe_description(dataframe):\n",
    "    data_types = dataframe.dtypes\n",
    "    unique_values = [\n",
    "        dataframe.select(col).distinct().count() for col in dataframe.columns\n",
    "    ]\n",
    "    info_columns = spark.createDataFrame(\n",
    "        list(zip(dataframe.columns, data_types, unique_values)),\n",
    "        [\"column\", \"data_types\", \"unique_values\"],\n",
    "    )\n",
    "    return info_columns"
   ]
  },
  {
   "cell_type": "code",
   "execution_count": 13,
   "id": "ad577f43-c573-42b1-aa85-6ff602f529cb",
   "metadata": {
    "tags": []
   },
   "outputs": [],
   "source": [
    "# info_initial_columns = dataframe_description(df)\n",
    "# info_initial_columns.show(truncate=False)"
   ]
  },
  {
   "cell_type": "markdown",
   "id": "5fd6e120-49a8-4199-8392-ff9565e844da",
   "metadata": {},
   "source": [
    "> From this description, the variables that need fixing are:\n",
    ">\n",
    "> The `date_observed` is a `string` type instead of `date`.\n",
    ">\n",
    "> The `year_observed` is a `numeric` type instead of `category`.\n",
    ">\n",
    "> The `postal_code` is a `numeric` type instead of `category`."
   ]
  },
  {
   "cell_type": "markdown",
   "id": "64fd9f0d-5b0a-46e6-9bf0-0f04eb2bec3b",
   "metadata": {},
   "source": [
    "## 3.1. Data Cleaning"
   ]
  },
  {
   "cell_type": "markdown",
   "id": "3d71a6be-ab2f-4f05-8dc6-dd36da085afc",
   "metadata": {},
   "source": [
    "*Transformation from `string` to `date` type.*"
   ]
  },
  {
   "cell_type": "code",
   "execution_count": 14,
   "id": "fffe929a-1dea-49e9-a7ac-be095c6ecee4",
   "metadata": {
    "tags": []
   },
   "outputs": [],
   "source": [
    "df = df.withColumn(\"date_observed\", to_date(df.date_observed))"
   ]
  },
  {
   "cell_type": "code",
   "execution_count": 15,
   "id": "f5132d3e-bbae-4fb6-8c88-1b3d2e8b6c51",
   "metadata": {
    "tags": []
   },
   "outputs": [],
   "source": [
    "# info_initial_columns = dataframe_description(df)\n",
    "# info_initial_columns.show(truncate=False)"
   ]
  },
  {
   "cell_type": "markdown",
   "id": "92d893ca-2022-47d8-bb63-a3d9e8da7c31",
   "metadata": {},
   "source": [
    "Function to map dictionaries."
   ]
  },
  {
   "cell_type": "code",
   "execution_count": 16,
   "id": "01221e8d-edbe-4193-b1bc-76384eedd47a",
   "metadata": {
    "tags": []
   },
   "outputs": [],
   "source": [
    "def mapping_strings(dataframe, mapping_dic, mapped_column, original_column):\n",
    "    mapping = create_map([lit(x) for x in chain(*mapping_dic.items())])\n",
    "    dataframe = dataframe.withColumn(\n",
    "        mapped_column,\n",
    "        when(\n",
    "            col(original_column).isin(list(mapping_dic.keys())),\n",
    "            mapping[col(original_column)],\n",
    "        ).otherwise(col(original_column)),\n",
    "    )\n",
    "    return dataframe"
   ]
  },
  {
   "cell_type": "code",
   "execution_count": 17,
   "id": "fe44ec8d-2f88-4a80-bcd2-7837bdd0a8b8",
   "metadata": {
    "tags": []
   },
   "outputs": [],
   "source": [
    "map_years = {2019: \"2019\", 2020: \"2020\", 2021: \"2021\", 2022: \"2022\", 2023: \"2023\"}\n",
    "df = mapping_strings(df, map_years, \"year_observed_cat\", \"year_observed\")"
   ]
  },
  {
   "cell_type": "code",
   "execution_count": 18,
   "id": "681bacda-bef6-4d2e-b81a-b9577745366c",
   "metadata": {
    "tags": []
   },
   "outputs": [],
   "source": [
    "unique_postal_code = df.select(\"postal_code\").distinct().collect()\n",
    "\n",
    "# for row in unique_postal_code:\n",
    "#    print(row[0])"
   ]
  },
  {
   "cell_type": "code",
   "execution_count": 19,
   "id": "cd6a1487-d1fe-49fa-833b-5444572fe42d",
   "metadata": {
    "tags": []
   },
   "outputs": [],
   "source": [
    "map_postal_code = {\n",
    "    8001: \"8001\",\n",
    "    8002: \"8002\",\n",
    "    8003: \"8003\",\n",
    "    8004: \"8004\",\n",
    "    8005: \"8005\",\n",
    "    8006: \"8006\",\n",
    "    8007: \"8007\",\n",
    "    8008: \"8008\",\n",
    "    8009: \"8009\",\n",
    "    8010: \"8010\",\n",
    "    8011: \"8011\",\n",
    "    8012: \"8012\",\n",
    "    8013: \"8013\",\n",
    "    8014: \"8014\",\n",
    "    8015: \"8015\",\n",
    "    8016: \"8016\",\n",
    "    8017: \"8017\",\n",
    "    8018: \"8018\",\n",
    "    8019: \"8019\",\n",
    "    8020: \"8020\",\n",
    "    8021: \"8021\",\n",
    "    8022: \"8022\",\n",
    "    8023: \"8023\",\n",
    "    8024: \"8024\",\n",
    "    8025: \"8025\",\n",
    "    8026: \"8026\",\n",
    "    8027: \"8027\",\n",
    "    8028: \"8028\",\n",
    "    8029: \"8029\",\n",
    "    8030: \"8030\",\n",
    "    8031: \"8031\",\n",
    "    8032: \"8032\",\n",
    "    8033: \"8033\",\n",
    "    8034: \"8034\",\n",
    "    8035: \"8035\",\n",
    "    8036: \"8036\",\n",
    "    8037: \"8037\",\n",
    "    8038: \"8038\",\n",
    "    8039: \"8039\",\n",
    "    8040: \"8040\",\n",
    "    8041: \"8041\",\n",
    "    8042: \"8042\",\n",
    "}\n",
    "df = mapping_strings(df, map_postal_code, \"postal_code\", \"postal_code\")"
   ]
  },
  {
   "cell_type": "code",
   "execution_count": 20,
   "id": "6c832e09-75fa-4c3d-b30e-7300cf142554",
   "metadata": {
    "tags": []
   },
   "outputs": [],
   "source": [
    "# info_initial_columns = dataframe_description(df)\n",
    "# info_initial_columns.show(truncate=False)"
   ]
  },
  {
   "cell_type": "markdown",
   "id": "71cb4853-baae-41a8-917f-c8b8609dabf2",
   "metadata": {},
   "source": [
    "## 3.2. Data Normalization"
   ]
  },
  {
   "cell_type": "markdown",
   "id": "09f982a9-6f3a-4b16-8c7b-d93e9bf30c6c",
   "metadata": {
    "tags": []
   },
   "source": [
    "# Inicializar el Min-Max Scaler\n",
    "scaler = MinMaxScaler(inputCol=\"consumption_value\", outputCol=\"scaled_consumption_value\")\n",
    "\n",
    "# Ajustar el scaler al DataFrame y normalizar la columna \"features\"\n",
    "scaler_model = scaler.fit(df)\n",
    "normalized_df = scaler_model.transform(df)\n",
    "\n",
    "# Mostrar el resultado\n",
    "normalized_df.show()"
   ]
  },
  {
   "cell_type": "markdown",
   "id": "157d5750-0b3b-4473-a3ae-40a76d249d67",
   "metadata": {},
   "source": [
    "## 3.3. Data Integration"
   ]
  },
  {
   "cell_type": "markdown",
   "id": "8d1a3ffc-8ff7-4e94-81de-ea8b8920645c",
   "metadata": {},
   "source": [
    "From the data, let's create new attributes from the `date_observed`. Let's find the `month` and `day of the week` the records were observed."
   ]
  },
  {
   "cell_type": "code",
   "execution_count": 21,
   "id": "403b1bc0-6b24-44ac-867e-37111c9b910e",
   "metadata": {
    "tags": []
   },
   "outputs": [],
   "source": [
    "def capitalizacion(dataframe, column):\n",
    "    dataframe = dataframe.withColumn(column, initcap(dataframe[column]))\n",
    "    return dataframe\n",
    "\n",
    "\n",
    "def get_day_of_week(date):\n",
    "    return format_date(date, format=\"EEEE\", locale=\"EN\")\n",
    "\n",
    "\n",
    "def get_month(date):\n",
    "    return format_date(date, format=\"MMMM\", locale=\"EN\")\n",
    "\n",
    "\n",
    "def add_date_columns(dataframe, date_column):\n",
    "    get_day_of_week_udf = udf(get_day_of_week, StringType())\n",
    "    get_month_udf = udf(get_month, StringType())\n",
    "\n",
    "    dataframe = dataframe.withColumn(\n",
    "        \"day_of_week\", get_day_of_week_udf(dataframe[date_column])\n",
    "    ).withColumn(\"month\", get_month_udf(dataframe[date_column]))\n",
    "    dataframe = capitalizacion(dataframe, \"day_of_week\")\n",
    "    dataframe = capitalizacion(dataframe, \"month\")\n",
    "    return dataframe"
   ]
  },
  {
   "cell_type": "code",
   "execution_count": 22,
   "id": "1b0bb5a7-1a90-4698-97dd-b937615c53a6",
   "metadata": {
    "tags": []
   },
   "outputs": [],
   "source": [
    "df = add_date_columns(df, \"date_observed\")\n",
    "# df.show(1)"
   ]
  },
  {
   "cell_type": "markdown",
   "id": "cf3a0b9b-0ce2-46e9-bd0d-db02a82fd140",
   "metadata": {},
   "source": [
    "## 3.3.1. Data Fusion"
   ]
  },
  {
   "cell_type": "code",
   "execution_count": 23,
   "id": "cc032239-c8e7-404a-83c9-863616f23b62",
   "metadata": {
    "tags": []
   },
   "outputs": [],
   "source": [
    "df_activities = spark.read.csv(\n",
    "    \"activities_bcn_2019_2022.csv\", header=True, inferSchema=True\n",
    ")"
   ]
  },
  {
   "cell_type": "code",
   "execution_count": 24,
   "id": "444fbb69-f16a-41d6-91cf-2698e4670fd7",
   "metadata": {
    "tags": []
   },
   "outputs": [],
   "source": [
    "df_with_activities = df.join(df_activities, \"date_observed\", \"left\")"
   ]
  },
  {
   "cell_type": "code",
   "execution_count": 25,
   "id": "b5459a0d-0754-443f-b680-8c5169fe4ba0",
   "metadata": {
    "tags": []
   },
   "outputs": [],
   "source": [
    "df_with_activities = df_with_activities.fillna(\"Unknown\")"
   ]
  },
  {
   "cell_type": "code",
   "execution_count": 26,
   "id": "d90a96ab-4872-4dfc-99e1-65d6f98a33a3",
   "metadata": {
    "tags": []
   },
   "outputs": [],
   "source": [
    "df_with_activities = df_with_activities.withColumn(\n",
    "    \"location\",\n",
    "    expr(\"CASE WHEN location LIKE '0%' THEN substring(location, 2) ELSE location END\"),\n",
    ")"
   ]
  },
  {
   "cell_type": "code",
   "execution_count": 27,
   "id": "626936d6-7a98-4050-a134-9aba0374fb5c",
   "metadata": {
    "tags": []
   },
   "outputs": [],
   "source": [
    "df_with_activities = df_with_activities.withColumn(\n",
    "    \"event_location\",\n",
    "    when((col(\"postal_code\") == col(\"location\")), \"Delimited zone\")\n",
    "    .when((col(\"location\") == \"Several places\"), \"Several places\")\n",
    "    .when((col(\"location\") == \"Unknown\"), \"Unknown\")\n",
    "    .when((col(\"location\") == \"None\"), \"Unknown\")\n",
    "    .otherwise(\"No event\"),\n",
    ")\n",
    "df_with_activities = df_with_activities.drop(\"postal_code\", \"location\")"
   ]
  },
  {
   "cell_type": "code",
   "execution_count": 28,
   "id": "3332205f-4ef9-4184-b481-45483906cb08",
   "metadata": {
    "tags": []
   },
   "outputs": [],
   "source": [
    "#df_with_activities.show(1)"
   ]
  },
  {
   "cell_type": "code",
   "execution_count": 29,
   "id": "5f4dc5fa-36f8-47c0-8903-238087f225b1",
   "metadata": {
    "tags": []
   },
   "outputs": [],
   "source": [
    "# info_initial_columns = dataframe_description(df_with_activities)\n",
    "# info_initial_columns.show(truncate=False)"
   ]
  },
  {
   "cell_type": "markdown",
   "id": "e8f46bb7-bd3e-4cff-94c1-56234800fbb3",
   "metadata": {},
   "source": [
    "## 3.4. Data Discretization"
   ]
  },
  {
   "cell_type": "markdown",
   "id": "50bbd9e3-8046-4481-800e-04e64252a8a9",
   "metadata": {},
   "source": [
    "*Definition of the categorical columns to encode*."
   ]
  },
  {
   "cell_type": "code",
   "execution_count": 30,
   "id": "be6bcdb5-b88a-43c2-9b96-4b1b419d2498",
   "metadata": {
    "tags": []
   },
   "outputs": [],
   "source": [
    "categorical_cols = [\n",
    "    \"day_of_week\",\n",
    "    \"month\",\n",
    "    \"year_observed_cat\",\n",
    "    \"event_location\",\n",
    "    \"organizers_type\",\n",
    "]"
   ]
  },
  {
   "cell_type": "markdown",
   "id": "fb20e594-2204-4ec3-b746-3e551c89c145",
   "metadata": {},
   "source": [
    "*Iteration over categorical columns and creation of new one-hot-encoded columns*."
   ]
  },
  {
   "cell_type": "code",
   "execution_count": 31,
   "id": "5a115d9f-c571-456b-b267-5ec7d3b9abad",
   "metadata": {
    "tags": []
   },
   "outputs": [],
   "source": [
    "for col_name in categorical_cols:\n",
    "    categories = (\n",
    "        df_with_activities.select(col(col_name))\n",
    "        .distinct()\n",
    "        .rdd.flatMap(lambda x: x)\n",
    "        .collect()\n",
    "    )\n",
    "\n",
    "    for category in categories:\n",
    "        new_col_name = col_name + \"_\" + category\n",
    "        df_with_activities = df_with_activities.withColumn(\n",
    "            new_col_name, (col(col_name) == lit(category)).cast(\"int\")\n",
    "        )"
   ]
  },
  {
   "cell_type": "code",
   "execution_count": 32,
   "id": "fd03c9b4-dbb6-4fb0-b27f-799243ac2fce",
   "metadata": {
    "tags": []
   },
   "outputs": [],
   "source": [
    "drop_columns = [\n",
    "    \"date_observed\",\n",
    "    \"year_observed\",\n",
    "    \"venue_type\",\n",
    "    \"day_of_week\",\n",
    "    \"month\",\n",
    "    \"organizers_type\",\n",
    "    \"event_location\",\n",
    "]\n",
    "df_with_activities = df_with_activities.drop(*drop_columns)"
   ]
  },
  {
   "cell_type": "code",
   "execution_count": 33,
   "id": "d457ce4c-56e3-47e3-9bfd-d74de9da1831",
   "metadata": {
    "tags": []
   },
   "outputs": [
    {
     "name": "stdout",
     "output_type": "stream",
     "text": [
      "+-----------------+-----------------+---------------------+-------------------+------------------+--------------------+--------------------+------------------+------------------+----------+--------------+-------------+-----------+---------+------------+-----------+----------+--------------+-------------+--------------+---------------+----------------------+----------------------+----------------------+----------------------+----------------------+----------------------+-----------------------+-----------------------------+-----------------------------+----------------------+-----------------------+----------------------+-----------------------+\n",
      "|consumption_value|year_observed_cat|day_of_week_Wednesday|day_of_week_Tuesday|day_of_week_Friday|day_of_week_Thursday|day_of_week_Saturday|day_of_week_Monday|day_of_week_Sunday|month_July|month_February|month_January|month_March|month_May|month_August|month_April|month_June|month_November|month_October|month_December|month_September|year_observed_cat_2019|year_observed_cat_2020|year_observed_cat_2021|year_observed_cat_2022|year_observed_cat_2023|event_location_Unknown|event_location_No event|event_location_Several places|event_location_Delimited zone|organizers_type_Public|organizers_type_Unknown|organizers_type_Hybrid|organizers_type_Private|\n",
      "+-----------------+-----------------+---------------------+-------------------+------------------+--------------------+--------------------+------------------+------------------+----------+--------------+-------------+-----------+---------+------------+-----------+----------+--------------+-------------+--------------+---------------+----------------------+----------------------+----------------------+----------------------+----------------------+----------------------+-----------------------+-----------------------------+-----------------------------+----------------------+-----------------------+----------------------+-----------------------+\n",
      "|            39695|             2019|                    0|                  1|                 0|                   0|                   0|                 0|                 0|         0|             0|            1|          0|        0|           0|          0|         0|             0|            0|             0|              0|                     1|                     0|                     0|                     0|                     0|                     1|                      0|                            0|                            0|                     0|                      1|                     0|                      0|\n",
      "+-----------------+-----------------+---------------------+-------------------+------------------+--------------------+--------------------+------------------+------------------+----------+--------------+-------------+-----------+---------+------------+-----------+----------+--------------+-------------+--------------+---------------+----------------------+----------------------+----------------------+----------------------+----------------------+----------------------+-----------------------+-----------------------------+-----------------------------+----------------------+-----------------------+----------------------+-----------------------+\n",
      "only showing top 1 row\n",
      "\n"
     ]
    }
   ],
   "source": [
    "df_with_activities.show(1)"
   ]
  },
  {
   "cell_type": "code",
   "execution_count": 33,
   "id": "af21e577-eae6-4370-863f-9ff7e852e996",
   "metadata": {},
   "outputs": [],
   "source": [
    "years_train = [\"2019\", \"2020\", \"2021\"]\n",
    "train_data = df_with_activities.filter(col(\"year_observed_cat\").isin(years_train))\n",
    "train_data = train_data.drop(\"year_observed_cat\")"
   ]
  },
  {
   "cell_type": "code",
   "execution_count": 34,
   "id": "8b73bd5b-2d19-4c01-b1ae-4b32325d856a",
   "metadata": {},
   "outputs": [],
   "source": [
    "years_validate = [\"2022\"]\n",
    "validate_data = df_with_activities.filter(col(\"year_observed_cat\").isin(years_validate))\n",
    "validate_data = validate_data.drop(\"year_observed_cat\")"
   ]
  },
  {
   "cell_type": "code",
   "execution_count": 35,
   "id": "8f5c0919-63d8-4c4c-8b27-193fb64cce9a",
   "metadata": {},
   "outputs": [],
   "source": [
    "years_test = [\"2023\"]\n",
    "test_data = df_with_activities.filter(col(\"year_observed_cat\").isin(years_test))\n",
    "test_data = test_data.drop(\"year_observed_cat\")"
   ]
  },
  {
   "cell_type": "code",
   "execution_count": null,
   "id": "76f2ec72-a76d-4233-9cca-4dbd89c3efb6",
   "metadata": {
    "tags": []
   },
   "outputs": [],
   "source": [
    "# df_with_activities.coalesce(1).write.csv('energy_2019_2022.csv', header=True)"
   ]
  }
 ],
 "metadata": {
  "kernelspec": {
   "display_name": "Python 3 (ipykernel)",
   "language": "python",
   "name": "python3"
  },
  "language_info": {
   "codemirror_mode": {
    "name": "ipython",
    "version": 3
   },
   "file_extension": ".py",
   "mimetype": "text/x-python",
   "name": "python",
   "nbconvert_exporter": "python",
   "pygments_lexer": "ipython3",
   "version": "3.10.9"
  }
 },
 "nbformat": 4,
 "nbformat_minor": 5
}
