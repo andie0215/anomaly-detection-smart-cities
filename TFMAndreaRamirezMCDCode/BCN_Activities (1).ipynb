{
 "cells": [
  {
   "cell_type": "markdown",
   "id": "4643de13-d321-4065-a4a2-dd45e220b22a",
   "metadata": {},
   "source": [
    "# Notebook Electricity Consumption  in Barcelona"
   ]
  },
  {
   "cell_type": "markdown",
   "id": "8853286e-e22c-4ac4-96a5-a62cb4edb17d",
   "metadata": {},
   "source": [
    "> *Andrea Ramirez*\n",
    ">\n",
    "> Master in Data Science\n",
    ">\n",
    "> Universitat de Girona, 2023"
   ]
  },
  {
   "cell_type": "markdown",
   "id": "765cc6e1-c61e-4ef2-9da6-bf6792956750",
   "metadata": {},
   "source": [
    "# 1. Notebook Preparation"
   ]
  },
  {
   "cell_type": "markdown",
   "id": "36ebe1d7-391c-4952-804a-df1cc45b9fcd",
   "metadata": {},
   "source": [
    "*Import the basic libraries to run this notebook.*"
   ]
  },
  {
   "cell_type": "code",
   "execution_count": 1,
   "id": "311386d8-f157-4988-a95a-460b9aa80d75",
   "metadata": {},
   "outputs": [],
   "source": [
    "import pandas as pd\n",
    "import numpy as np\n",
    "import seaborn as sns\n",
    "from babel.dates import format_date\n",
    "import json\n",
    "from datetime import datetime, time\n",
    "import os\n",
    "import requests"
   ]
  },
  {
   "cell_type": "markdown",
   "id": "ca04ccde-8a7f-41e7-b657-91ae8fd9d2b3",
   "metadata": {},
   "source": [
    "# 2. Data Extraction"
   ]
  },
  {
   "cell_type": "markdown",
   "id": "09f96b25-7f48-4417-bb5d-7bea92835fd0",
   "metadata": {},
   "source": [
    "*Import of libraries to run Spark in this section.*"
   ]
  },
  {
   "cell_type": "code",
   "execution_count": 2,
   "id": "6e250527-16d4-4eb3-ba91-342abcdac6c4",
   "metadata": {},
   "outputs": [],
   "source": [
    "from pyspark.sql import SparkSession\n",
    "from pyspark.sql.functions import *\n",
    "from itertools import chain\n",
    "from pyspark.sql.types import *\n",
    "from pyspark.sql.window import Window\n",
    "from pyspark.sql.functions import regexp_replace, to_date\n",
    "\n",
    "from pyspark.ml.feature import *\n",
    "from pyspark.ml import *"
   ]
  },
  {
   "cell_type": "markdown",
   "id": "216b308a-e4aa-4f9f-b2a0-cbf1058203a0",
   "metadata": {},
   "source": [
    "*Creation of the Spark session*"
   ]
  },
  {
   "cell_type": "code",
   "execution_count": 3,
   "id": "c9527244-1d9d-43da-8891-ea1114307aa9",
   "metadata": {},
   "outputs": [],
   "source": [
    "os.environ['SPARK_MASTER'] = 'local[*]'\n",
    "os.environ['SPARK_JAR_PACKAGES'] = 'org.postgresql:postgresql:42.6.0'\n",
    "os.environ['SPARK_WAREHOUSE'] = '/tmp/'"
   ]
  },
  {
   "cell_type": "code",
   "execution_count": 4,
   "id": "cab681f7-52ff-4ffa-a775-fd802f0c61d0",
   "metadata": {},
   "outputs": [],
   "source": [
    "spark = SparkSession.builder.master(os.environ['SPARK_MASTER']) \\\n",
    "    .appName(\"Spark-Electricity-BCN\") \\\n",
    "    .config(\"spark.sql.session.timeZone\",\"UTC\") \\\n",
    "    .config('spark.ui.enabled', False) \\\n",
    "    .config(\"spark.sql.legacy.timeParserPolicy\", \"LEGACY\") \\\n",
    "    .config('spark.driver.memory', '2g') \\\n",
    "    .config('spark.ui.showConsoleProgress', False) \\\n",
    "    .config('spark.jars.packages',os.environ['SPARK_JAR_PACKAGES']) \\\n",
    "    .getOrCreate()"
   ]
  },
  {
   "cell_type": "markdown",
   "id": "e65fa114-e343-4fa4-87f4-60404d040d15",
   "metadata": {},
   "source": [
    "*Getting the `url` per year*."
   ]
  },
  {
   "cell_type": "code",
   "execution_count": 5,
   "id": "f87db8f2-977e-4fac-a43d-d3ce7ba17a42",
   "metadata": {},
   "outputs": [],
   "source": [
    "data_activities_BCN = {\n",
    "    2019: {'year':'2019', 'url':'https://opendata-ajuntament.barcelona.cat/data/dataset/5a8ea22e-6e37-4867-99c0-ce2febe665b4/resource/09a35229-b075-447a-85d0-a868ed86fa51/download'},\n",
    "    2020: {'year':'2020', 'url':'https://opendata-ajuntament.barcelona.cat/data/dataset/5a8ea22e-6e37-4867-99c0-ce2febe665b4/resource/26cd4ea5-0930-469a-925f-18cf066ae8cb/download'},\n",
    "    2021: {'year':'2021', 'url':'https://opendata-ajuntament.barcelona.cat/data/dataset/5a8ea22e-6e37-4867-99c0-ce2febe665b4/resource/7a04129f-8aef-4d4b-9b9e-afe11c0360a4/download'},\n",
    "    2022: {'year':'2022', 'url':'https://opendata-ajuntament.barcelona.cat/data/dataset/5a8ea22e-6e37-4867-99c0-ce2febe665b4/resource/0d3f939b-72f5-42fe-bb8e-70acfd1f65cf/download'},\n",
    "}"
   ]
  },
  {
   "cell_type": "code",
   "execution_count": 6,
   "id": "866a2f8a-f3b5-4b48-8d18-2dcb441937a5",
   "metadata": {},
   "outputs": [],
   "source": [
    "def get_data_per_year(diccionary, element):\n",
    "    if element in diccionary:\n",
    "        data_per_year = diccionary[element]\n",
    "        year = data_per_year['year']\n",
    "        url = data_per_year['url']\n",
    "        return year, url\n",
    "    else:\n",
    "        return None "
   ]
  },
  {
   "cell_type": "markdown",
   "id": "cb2e51b2-a7e5-4d03-b4b0-0a5930d6338e",
   "metadata": {},
   "source": [
    "*Requesting the data from the Open Data website*"
   ]
  },
  {
   "cell_type": "code",
   "execution_count": 7,
   "id": "a46e1bdb-503a-4bb3-8b67-2fea42a781ea",
   "metadata": {},
   "outputs": [],
   "source": [
    "def extract_data(year, url):\n",
    "    file_name = f\"{year}.csv\"\n",
    "    response = requests.get(url)\n",
    "    with open(file_name, \"wb\") as f:\n",
    "        f.write(response.content)\n",
    "    df = spark.read.csv(file_name, header=True, inferSchema=True)\n",
    "    return df"
   ]
  },
  {
   "cell_type": "code",
   "execution_count": 8,
   "id": "75f78f03-205a-41e8-9690-463ac9b0cda8",
   "metadata": {},
   "outputs": [],
   "source": [
    "combined_activities_df = None\n",
    "\n",
    "for year, data_per_year in data_activities_BCN.items():\n",
    "    year = data_per_year['year']\n",
    "    url = data_per_year['url']\n",
    "    activities_df = extract_data(year, url)\n",
    "    if combined_activities_df is None:\n",
    "        combined_activities_df = activities_df\n",
    "    else:\n",
    "        combined_activities_df = combined_activities_df.union(activities_df)"
   ]
  },
  {
   "cell_type": "markdown",
   "id": "abf79446-9044-46ca-abde-0cb1b8057905",
   "metadata": {},
   "source": [
    "# 3. Data Exploration and Pre-Processing"
   ]
  },
  {
   "cell_type": "code",
   "execution_count": 9,
   "id": "4719a7db-01d8-4111-9260-937cc6a9700c",
   "metadata": {},
   "outputs": [],
   "source": [
    "activities_df = combined_activities_df.select('Any','Titularitat','Festa','DataInici','DataFi','Assistents','Espai')"
   ]
  },
  {
   "cell_type": "markdown",
   "id": "a097c9f7-0824-4f75-87e6-83705e3d411c",
   "metadata": {},
   "source": [
    "First of all, let's check the initial attributes."
   ]
  },
  {
   "cell_type": "code",
   "execution_count": 10,
   "id": "b5c7f72f-f900-4c15-b098-96e46f5d51ea",
   "metadata": {},
   "outputs": [],
   "source": [
    "def dataframe_description(dataframe):\n",
    "    data_types = dataframe.dtypes\n",
    "    unique_values = [dataframe.select(col).distinct().count() for col in dataframe.columns]\n",
    "    info_columns = spark.createDataFrame(list(zip(dataframe.columns, data_types, unique_values)), [\"column\", \"data_types\", \"unique_values\"])\n",
    "    return info_columns"
   ]
  },
  {
   "cell_type": "code",
   "execution_count": 11,
   "id": "e998fecd-96cc-4b9a-b437-9c17f8188538",
   "metadata": {},
   "outputs": [
    {
     "name": "stdout",
     "output_type": "stream",
     "text": [
      "+-----------+---------------------+-------------+\n",
      "|column     |data_types           |unique_values|\n",
      "+-----------+---------------------+-------------+\n",
      "|Any        |{Any, int}           |4            |\n",
      "|Titularitat|{Titularitat, string}|3            |\n",
      "|Festa      |{Festa, string}      |17           |\n",
      "|DataInici  |{DataInici, string}  |57           |\n",
      "|DataFi     |{DataFi, string}     |56           |\n",
      "|Assistents |{Assistents, int}    |21           |\n",
      "|Espai      |{Espai, string}      |22           |\n",
      "+-----------+---------------------+-------------+\n",
      "\n"
     ]
    }
   ],
   "source": [
    "info_initial_columns = dataframe_description(activities_df)\n",
    "info_initial_columns.show(truncate=False)"
   ]
  },
  {
   "cell_type": "markdown",
   "id": "f54a3b65-ecb4-450b-892b-73eceb6392c4",
   "metadata": {},
   "source": [
    "## 3.1. Data Cleaning"
   ]
  },
  {
   "cell_type": "markdown",
   "id": "5a517ace-5093-458e-8ba5-e04abb96215d",
   "metadata": {},
   "source": [
    "Let's clean up the data of this dataframe."
   ]
  },
  {
   "cell_type": "code",
   "execution_count": 12,
   "id": "50ef589c-3886-41e0-94ec-f7c8ac9188b0",
   "metadata": {},
   "outputs": [],
   "source": [
    "activities_df = activities_df.withColumnRenamed(\"Any\", \"year_observed\") \\\n",
    "    .withColumnRenamed(\"Titularitat\", \"organizers_type\") \\\n",
    "    .withColumnRenamed(\"Festa\", \"activity\") \\\n",
    "    .withColumnRenamed(\"DataInici\", \"date_start\") \\\n",
    "    .withColumnRenamed(\"DataFi\", \"date_end\") \\\n",
    "    .withColumnRenamed(\"Assistents\", \"attendants_value\") \\\n",
    "    .withColumnRenamed(\"Espai\", \"venue_type\") "
   ]
  },
  {
   "cell_type": "code",
   "execution_count": 13,
   "id": "f87eb8bd-cffa-485a-887f-0e7f2afeefea",
   "metadata": {},
   "outputs": [],
   "source": [
    "activities_df = activities_df.withColumn(\"date_start\", to_date(activities_df.date_start, \"dd/MM/yyyy\")) \\\n",
    "    .withColumn(\"date_end\", to_date(activities_df.date_end, \"dd/MM/yyyy\")) "
   ]
  },
  {
   "cell_type": "markdown",
   "id": "2c2ee1c9-c6fb-4fe8-aebe-dacabad831f6",
   "metadata": {},
   "source": [
    "There are some activities that are held for more than one day. For that reason, let's calculate the difference between `date_end` and `date_start`. Then, let's use the function `posexplode` to create an index for each range to finally duplicate the other values of the row."
   ]
  },
  {
   "cell_type": "code",
   "execution_count": 14,
   "id": "bfebc342-8e10-4dff-ac08-ed099b1b0352",
   "metadata": {},
   "outputs": [],
   "source": [
    "activities_df = activities_df.withColumn(\"date_diff\", expr(\"date_end - date_start\"))\n",
    "\n",
    "activities_df = activities_df.selectExpr(\"year_observed\",\"activity\",\"organizers_type\",\"attendants_value\",\"venue_type\",\"date_start\",\"date_diff\",\"posexplode(sequence(date_start, date_end, interval 1 day)) as (pos, date_observed)\")\n",
    "\n",
    "activities_df = activities_df.select(\"year_observed\",\"activity\",\"organizers_type\",\"attendants_value\",\"venue_type\", col(\"date_observed\").alias(\"date_observed\"))"
   ]
  },
  {
   "cell_type": "code",
   "execution_count": 15,
   "id": "22df07a6-0bcd-4cd2-8505-e0c6f5a5d73a",
   "metadata": {},
   "outputs": [
    {
     "name": "stdout",
     "output_type": "stream",
     "text": [
      "+----------------+-------------------------+-------------+\n",
      "|column          |data_types               |unique_values|\n",
      "+----------------+-------------------------+-------------+\n",
      "|year_observed   |{year_observed, int}     |4            |\n",
      "|activity        |{activity, string}       |17           |\n",
      "|organizers_type |{organizers_type, string}|3            |\n",
      "|attendants_value|{attendants_value, int}  |21           |\n",
      "|venue_type      |{venue_type, string}     |22           |\n",
      "|date_observed   |{date_observed, date}    |159          |\n",
      "+----------------+-------------------------+-------------+\n",
      "\n"
     ]
    }
   ],
   "source": [
    "info_initial_columns = dataframe_description(activities_df)\n",
    "info_initial_columns.show(truncate=False)"
   ]
  },
  {
   "cell_type": "markdown",
   "id": "1c58b80e-de75-47e2-97fc-d4a8012bb1d9",
   "metadata": {},
   "source": [
    "Function to map dictionaries."
   ]
  },
  {
   "cell_type": "code",
   "execution_count": 16,
   "id": "9abdeaa4-4136-47dd-a998-efd7094eab05",
   "metadata": {
    "tags": []
   },
   "outputs": [],
   "source": [
    "def mapping_strings(dataframe,mapping_dic,mapped_column,original_column):\n",
    "    mapping = create_map([lit(x) for x in chain(*mapping_dic.items())])\n",
    "    dataframe = dataframe.withColumn(mapped_column, when(col(original_column).isin(list(mapping_dic.keys())), mapping[col(original_column)]).otherwise(col(original_column)))\n",
    "    return dataframe"
   ]
  },
  {
   "cell_type": "code",
   "execution_count": 17,
   "id": "de193956-7d11-473f-a3e1-4acf5a6c7aae",
   "metadata": {},
   "outputs": [],
   "source": [
    "map_years = {\n",
    "    2019:\"2019\",\n",
    "    2020:\"2020\",\n",
    "    2021:\"2021\",\n",
    "    2022:\"2022\",\n",
    "    2023:\"2023\"\n",
    "}\n",
    "activities_df = mapping_strings(activities_df,map_years,\"year_observed\",\"year_observed\")"
   ]
  },
  {
   "cell_type": "code",
   "execution_count": 18,
   "id": "4515c00d-9eda-4d9b-8e0f-3744f03a8e1d",
   "metadata": {},
   "outputs": [
    {
     "name": "stdout",
     "output_type": "stream",
     "text": [
      "Municipal\n",
      "Mixta\n",
      "Privada\n"
     ]
    }
   ],
   "source": [
    "unique_organizers_type = activities_df.select(\"organizers_type\").distinct().collect()\n",
    "\n",
    "for row in unique_organizers_type:\n",
    "    print(row[0])"
   ]
  },
  {
   "cell_type": "code",
   "execution_count": 19,
   "id": "9e0f3012-7985-44ce-9860-cfee1e9e31c3",
   "metadata": {},
   "outputs": [],
   "source": [
    "replace_organizers_type = {\n",
    "    \"Municipal\":\"Public\",\n",
    "    \"Mixta\":\"Hybrid\",\n",
    "    \"Privada\":\"Private\"\n",
    "}\n",
    "activities_df = mapping_strings(activities_df,replace_organizers_type,\"organizers_type\",\"organizers_type\")"
   ]
  },
  {
   "cell_type": "code",
   "execution_count": 20,
   "id": "b39d00ea-e5be-4ea9-9530-ec8a9894b750",
   "metadata": {},
   "outputs": [
    {
     "name": "stdout",
     "output_type": "stream",
     "text": [
      "Barri de Gràica, Sant Gervasi i la Bordeta\n",
      "None\n",
      "Museus de l'Institut de Cultura\n",
      "Barri de Sant Antoni\n",
      "Districte de Gràcia\n",
      "Districte de Sants\n",
      "Diversos espais\n",
      "Diversos espais de la ciutat\n",
      "Diferents espais de la ciutat\n",
      "Gràcia\n",
      "Ciutat i districtes\n",
      "Diferents museus\n",
      "Online\n",
      "Ciutat Vella\n",
      "Diferents espais\n",
      "Diversos museus de la ciutat\n",
      "100 llibreries de Catalunya (51 d'elles de Barcelona)\n",
      "Diversos espais del barri de Gràcia\n",
      "Diversos espais de Ciutat Vella\n",
      "Avinguda de la Reina Maria Cristina\n",
      "Diversos espais del barri de Sants\n",
      "Diversos museus de la ciutat i de l'Àrea Metropolitana\n"
     ]
    }
   ],
   "source": [
    "unique_venue_type = activities_df.select(\"venue_type\").distinct().collect()\n",
    "\n",
    "for row in unique_venue_type:\n",
    "    print(row[0])"
   ]
  },
  {
   "cell_type": "code",
   "execution_count": 21,
   "id": "c1186782-28af-4bf1-830c-606c3070308f",
   "metadata": {},
   "outputs": [],
   "source": [
    "replace_venue_type = {\n",
    "\"Barri de Gràica, Sant Gervasi i la Bordeta\":\"08012\",\n",
    "\"None\":\"None\",\n",
    "\"Museus de l'Institut de Cultura\":\"08002\",\n",
    "\"Barri de Sant Antoni\":\"08001\",\n",
    "\"Districte de Gràcia\":\"08012\",\n",
    "\"Districte de Sants\":\"08014\",\n",
    "\"Diversos espais\":\"Several places\",\n",
    "\"Diversos espais de la ciutat\":\"Several places\",\n",
    "\"Diferents espais de la ciutat\":\"Several places\",\n",
    "\"Gràcia\":\"08012\",\n",
    "\"Ciutat i districtes\":\"Several places\",\n",
    "\"Diferents museus\":\"Several places\",\n",
    "\"Online\":\"None\",\n",
    "\"Ciutat Vella\":\"08002\",\n",
    "\"Diferents espais\":\"Several places\",\n",
    "\"Diversos museus de la ciutat\":\"Several places\",\n",
    "\"100 llibreries de Catalunya (51 d'elles de Barcelona)\":\"Several places\",\n",
    "\"Diversos espais del barri de Gràcia\":\"08012\",\n",
    "\"Diversos espais de Ciutat Vella\":\"08002\",\n",
    "\"Avinguda de la Reina Maria Cristina\":\"08004\",\n",
    "\"Diversos espais del barri de Sants\":\"08014\",\n",
    "\"Diversos museus de la ciutat i de l'Àrea Metropolitana\":\"Several places\",\n",
    "}\n",
    "activities_df = mapping_strings(activities_df,replace_venue_type,\"location\",\"venue_type\")\n",
    "activities_df = activities_df.fillna(\"Several places\", subset=[\"location\"])"
   ]
  },
  {
   "cell_type": "markdown",
   "id": "c0e37ad5-4fd3-4d98-b9d1-70d72437b122",
   "metadata": {},
   "source": [
    "*Selecting the columns to work*."
   ]
  },
  {
   "cell_type": "code",
   "execution_count": 22,
   "id": "9f4a7050-031a-4011-9ae6-a88b9507bb4c",
   "metadata": {},
   "outputs": [],
   "source": [
    "drop_activities = ['activity','venue_type','attendants_value','year_observed']\n",
    "df_activities = activities_df.drop(*drop_activities)"
   ]
  },
  {
   "cell_type": "code",
   "execution_count": 23,
   "id": "845fdfa5-662d-47b0-ac16-b8f3bc2f613d",
   "metadata": {},
   "outputs": [
    {
     "name": "stdout",
     "output_type": "stream",
     "text": [
      "+---------------+-------------+--------------+\n",
      "|organizers_type|date_observed|      location|\n",
      "+---------------+-------------+--------------+\n",
      "|         Public|   2019-12-31|Several places|\n",
      "+---------------+-------------+--------------+\n",
      "only showing top 1 row\n",
      "\n"
     ]
    }
   ],
   "source": [
    "df_activities.show(1)"
   ]
  },
  {
   "cell_type": "code",
   "execution_count": 26,
   "id": "a7529f74-21dc-400e-a2bc-2e101c3e47f5",
   "metadata": {
    "tags": []
   },
   "outputs": [],
   "source": [
    "df_activities.coalesce(1).write.csv('activities_bcn_2019_2022.csv', header=True)"
   ]
  },
  {
   "cell_type": "code",
   "execution_count": null,
   "id": "ea65006b-4b79-4e70-a819-a52c3f53a629",
   "metadata": {},
   "outputs": [],
   "source": []
  }
 ],
 "metadata": {
  "kernelspec": {
   "display_name": "Python 3 (ipykernel)",
   "language": "python",
   "name": "python3"
  },
  "language_info": {
   "codemirror_mode": {
    "name": "ipython",
    "version": 3
   },
   "file_extension": ".py",
   "mimetype": "text/x-python",
   "name": "python",
   "nbconvert_exporter": "python",
   "pygments_lexer": "ipython3",
   "version": "3.10.9"
  }
 },
 "nbformat": 4,
 "nbformat_minor": 5
}
